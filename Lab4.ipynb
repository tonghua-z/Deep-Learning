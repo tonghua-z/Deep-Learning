{
 "cells": [
  {
   "cell_type": "code",
   "execution_count": 1,
   "metadata": {},
   "outputs": [],
   "source": [
    "import numpy as np\n",
    "import copy\n",
    "import matplotlib.pyplot as plt"
   ]
  },
  {
   "cell_type": "markdown",
   "metadata": {},
   "source": [
    "### Load data"
   ]
  },
  {
   "cell_type": "code",
   "execution_count": 2,
   "metadata": {},
   "outputs": [],
   "source": [
    "book_data = open('goblet_book.txt', 'r',encoding='utf-8').read()"
   ]
  },
  {
   "cell_type": "code",
   "execution_count": 3,
   "metadata": {},
   "outputs": [
    {
     "data": {
      "text/plain": [
       "1107542"
      ]
     },
     "execution_count": 3,
     "metadata": {},
     "output_type": "execute_result"
    }
   ],
   "source": [
    "len(book_data)"
   ]
  },
  {
   "cell_type": "code",
   "execution_count": 4,
   "metadata": {},
   "outputs": [],
   "source": [
    "book_chars = set(book_data)\n",
    "K = len(book_chars)"
   ]
  },
  {
   "cell_type": "code",
   "execution_count": 5,
   "metadata": {},
   "outputs": [],
   "source": [
    "char_to_ind, ind_to_char = dict(), dict()\n",
    "for index, character in enumerate(book_chars):\n",
    "    char_to_ind[character] = index\n",
    "    ind_to_char[index] = character"
   ]
  },
  {
   "cell_type": "markdown",
   "metadata": {},
   "source": [
    "### RNN network"
   ]
  },
  {
   "cell_type": "code",
   "execution_count": 6,
   "metadata": {},
   "outputs": [],
   "source": [
    "def one_hot(index, distinct_num):\n",
    "    char_one_hot = np.zeros(shape=(distinct_num,1))\n",
    "    char_one_hot[index, 0] = 1\n",
    "    \n",
    "    return char_one_hot"
   ]
  },
  {
   "cell_type": "code",
   "execution_count": 13,
   "metadata": {},
   "outputs": [],
   "source": [
    "class RNN(object):\n",
    "\n",
    "    def __init__(self, input_size, hidden_size, output_size, scale=0.01, seed=1):\n",
    "        self.output_size = output_size\n",
    "        self.hidden_size = hidden_size\n",
    "        self.input_size = input_size\n",
    "\n",
    "        self.b = np.zeros((hidden_size, 1))\n",
    "        self.c = np.zeros((output_size, 1))\n",
    "        np.random.seed(seed)\n",
    "        self.U = np.random.normal(size=(hidden_size, input_size), loc=0, scale=scale)\n",
    "        self.W = np.random.normal(size=(hidden_size, hidden_size), loc=0, scale=scale)\n",
    "        self.V = np.random.normal(size=(output_size, hidden_size), loc=0, scale=scale)\n",
    "\n",
    "    def tanh(self, a):\n",
    "        a = np.clip(a, -700, 700)\n",
    "\n",
    "        return (np.exp(a) - np.exp(-a)) / (np.exp(a) + np.exp(-a))\n",
    "\n",
    "    def softmax(self, o):\n",
    "        o = np.clip(o, -700, 700)\n",
    "        exponential_o = np.exp(o)\n",
    "        p = exponential_o / exponential_o.sum(axis=0)\n",
    "\n",
    "        return p\n",
    "\n",
    "    # synthesize text by the model\n",
    "    def synthesize(self, x0, h0, length):\n",
    "        Y = np.zeros(shape=(self.output_size, length))\n",
    "        x = x0\n",
    "        h_prev = h0\n",
    "        for t in range(length):\n",
    "            a = self.W @ h_prev + self.U @ x + self.b\n",
    "            h = self.tanh(a)\n",
    "            o = self.V @ h + self.c\n",
    "            p = self.softmax(o)\n",
    "\n",
    "            x = np.random.multinomial(1, np.squeeze(p))[:, np.newaxis]\n",
    "            Y[:, [t]] = x[:, [0]]\n",
    "            h_prev = h\n",
    "\n",
    "        return Y\n",
    "\n",
    "    def forward(self, X, Y, h0):\n",
    "\n",
    "        seq_length = X.shape[1]\n",
    "        p, o, h, a = [None] * seq_length, [None] * seq_length, [None] * seq_length, [None] * seq_length\n",
    "\n",
    "        loss = 0\n",
    "        for t in range(seq_length):\n",
    "            if t == 0:\n",
    "                a[t] = self.W @ h0 + self.U @ X[:, [t]] + self.b\n",
    "            else:\n",
    "                a[t] = self.W @ h[t - 1] + self.U @ X[:, [t]] + self.b\n",
    "            h[t] = self.tanh(a[t])\n",
    "            o[t] = self.V @ h[t] + self.c\n",
    "            p[t] = self.softmax(o[t])\n",
    "            loss -= np.log(Y[:, [t]].T @ p[t])[0, 0]\n",
    "\n",
    "        return loss, p, [h0] + h, a\n",
    "\n",
    "    def backward(self, X, Y, p, h, a):\n",
    "\n",
    "        h0 = h[0]\n",
    "        h = h[1:]\n",
    "\n",
    "        grad = dict()\n",
    "        for parameter in ['b', 'c', 'W', 'U', 'V']:\n",
    "            grad[parameter] = np.zeros_like(vars(self)[parameter])\n",
    "\n",
    "        seq_length = X.shape[1]\n",
    "        grad_a = [None] * seq_length\n",
    "        for t in range((seq_length - 1), -1, -1):\n",
    "            g = -(Y[:, [t]] - p[t]).T\n",
    "            grad['V'] += g.T @ h[t].T\n",
    "            grad['c'] += g.T\n",
    "            if t < (seq_length - 1):\n",
    "                dL_h = g @ self.V + grad_a[t + 1] @ self.W\n",
    "            else:\n",
    "                dL_h = g @ self.V\n",
    "            grad_a[t] = dL_h @ np.diag(1 - h[t][:, 0] ** 2)\n",
    "            if t == 0:\n",
    "                grad['W'] += grad_a[t].T @ h0.T\n",
    "            else:\n",
    "                grad['W'] += grad_a[t].T @ h[t - 1].T\n",
    "            grad['U'] += grad_a[t].T @ X[:, [t]].T\n",
    "            grad['b'] += grad_a[t].T\n",
    "\n",
    "        # Clipping gradients\n",
    "        for parameter in ['b', 'c', 'U', 'W', 'V']:\n",
    "            grad[parameter] = np.clip(grad[parameter], -5, 5)\n",
    "\n",
    "        return grad\n",
    "\n",
    "    def train(self,\n",
    "              text,\n",
    "              ind_to_char,\n",
    "              char_to_ind,\n",
    "              seq_length,\n",
    "              eta=0.1,\n",
    "              number_updates=100000,\n",
    "              max_epochs=np.inf,\n",
    "              find_best_model=True):\n",
    "\n",
    "        self.current_update = 1\n",
    "        self.smooth_loss = []\n",
    "\n",
    "        for parameter in ['b', 'c', 'U', 'W', 'V']:\n",
    "            vars(self)[parameter + '_memory'] = np.zeros_like(vars(self)[parameter])\n",
    "\n",
    "        if find_best_model:\n",
    "            self.smooth_loss_min = np.inf\n",
    "            self.smooth_loss_min_update = 1\n",
    "            for parameter in ['b', 'c', 'U', 'W', 'V']:\n",
    "                vars(self)[parameter + '_best'] = vars(self)[parameter]\n",
    "\n",
    "        # iterate every updates\n",
    "        current_epoch = 1\n",
    "        while self.current_update <= number_updates:\n",
    "\n",
    "            h_prev = np.zeros(shape=(self.hidden_size, 1))\n",
    "\n",
    "            for e in range(0, len(text) - 1, seq_length):\n",
    "\n",
    "                if e > len(text) - seq_length - 1:\n",
    "                    break\n",
    "\n",
    "                # one-hot enceding for the text sequences\n",
    "                X_chars, Y_chars = text[e:(e + seq_length)], text[(e + 1):(e + 1 + seq_length)]\n",
    "                X = np.zeros(shape=(self.input_size, seq_length))\n",
    "                Y = np.zeros(shape=(self.output_size, seq_length))\n",
    "                for t in range(seq_length):\n",
    "                    X[:, [t]] = one_hot(char_to_ind[X_chars[t]], self.output_size)\n",
    "                    Y[:, [t]] = one_hot(char_to_ind[Y_chars[t]], self.output_size)\n",
    "\n",
    "                # forward and backward\n",
    "                loss, p, h, a = self.forward(X, Y, h_prev)\n",
    "                new_grad = self.backward(X, Y, p, h, a)\n",
    "\n",
    "                # compute smooth loss\n",
    "                if self.current_update == 1:\n",
    "                    self.smooth_loss.append(loss)\n",
    "                else:\n",
    "                    self.smooth_loss.append(0.999 * self.smooth_loss[-1] + 0.001 * loss)\n",
    "\n",
    "                # AdaGrad update\n",
    "                for parameter in ['b', 'c', 'U', 'W', 'V']:\n",
    "                    vars(self)[parameter + '_memory'] += new_grad[parameter] ** 2\n",
    "                    vars(self)[parameter] += -eta * new_grad[parameter] / np.sqrt(\n",
    "                        vars(self)[parameter + '_memory'] + np.spacing(1))\n",
    "\n",
    "                # update the lowest loss\n",
    "                if find_best_model and self.smooth_loss[-1] < self.smooth_loss_min:\n",
    "                    self.smooth_loss_min = self.smooth_loss[-1]\n",
    "                    self.smooth_loss_min_update = self.current_update\n",
    "\n",
    "                # Print synthesized samples\n",
    "                if self.current_update % 10000 == 0 or self.current_update == 1:\n",
    "                    print('Update ' + str(self.current_update) + ' with loss: ' + str(self.smooth_loss[-1]))\n",
    "                    synthesize_one_hot = self.synthesize(x0=X[:, [0]], h0=h_prev, length=200)\n",
    "                    synthesize_characters = []\n",
    "                    for index in range(synthesize_one_hot.shape[1]):\n",
    "                        character = ind_to_char[np.where(synthesize_one_hot[:, index] > 0)[0][0]]\n",
    "                        synthesize_characters.append(character)\n",
    "                    print('Synthesized text:\\n' + ''.join(synthesize_characters))\n",
    "                    print('-' * 50)\n",
    "\n",
    "                self.current_update += 1\n",
    "                if self.current_update > number_updates:\n",
    "                    break\n",
    "\n",
    "                h_prev = h[seq_length]\n",
    "\n",
    "            current_epoch += 1\n",
    "            if current_epoch > max_epochs:\n",
    "                break\n",
    "\n",
    "        # Update training parameters of the best model\n",
    "        if find_best_model:\n",
    "            for parameter in ['b', 'c', 'U', 'W', 'V']:\n",
    "                vars(self)[parameter] = vars(self)[parameter + '_best']"
   ]
  },
  {
   "cell_type": "code",
   "execution_count": 14,
   "metadata": {},
   "outputs": [],
   "source": [
    "K = len(book_chars)\n",
    "m = 100\n",
    "RNN_net = RNN(input_size=K, hidden_size=m, output_size=K)"
   ]
  },
  {
   "cell_type": "markdown",
   "metadata": {},
   "source": [
    "### Gradient computations check"
   ]
  },
  {
   "cell_type": "code",
   "execution_count": 9,
   "metadata": {},
   "outputs": [
    {
     "data": {
      "text/plain": [
       "('HARRY POTTER AND THE GOBL', 'ARRY POTTER AND THE GOBLE')"
      ]
     },
     "execution_count": 9,
     "metadata": {},
     "output_type": "execute_result"
    }
   ],
   "source": [
    "seq_length = 25\n",
    "X_chars = book_data[0:seq_length]\n",
    "Y_chars = book_data[1:(1+seq_length)]"
   ]
  },
  {
   "cell_type": "code",
   "execution_count": 10,
   "metadata": {},
   "outputs": [],
   "source": [
    "X = np.zeros(shape=(K,seq_length))\n",
    "Y = np.zeros(shape=(K,seq_length))\n",
    "for t in range(seq_length):\n",
    "    X[:,[t]] = one_hot(char_to_ind[X_chars[t]], K)\n",
    "    Y[:,[t]] = one_hot(char_to_ind[Y_chars[t]], K)"
   ]
  },
  {
   "cell_type": "code",
   "execution_count": 11,
   "metadata": {},
   "outputs": [],
   "source": [
    "h_init = np.zeros(shape=(RNN_net.hidden_size,1))\n",
    "loss, p, h, a = RNN_net.forward(X, Y, h_init)\n",
    "grads = RNN_net.backward(X, Y, p, h, a)"
   ]
  },
  {
   "cell_type": "code",
   "execution_count": 12,
   "metadata": {},
   "outputs": [],
   "source": [
    "def ComputeGradsNum(RNN, X, Y, h_init, h=1e-4):\n",
    "    grad = dict()\n",
    "    for parameter in ['b', 'c', 'U', 'W', 'V']:\n",
    "        grad[parameter] = np.zeros_like(vars(RNN)[parameter])\n",
    "        for i in range(vars(RNN)[parameter].shape[0]):\n",
    "            for j in range(vars(RNN)[parameter].shape[1]):\n",
    "                RNN_try = copy.deepcopy(RNN)\n",
    "                vars(RNN_try)[parameter][i, j] += h\n",
    "                loss2, _, _, _ = RNN_try.forward(X, Y, h_init)\n",
    "                vars(RNN_try)[parameter][i, j] -= 2 * h\n",
    "                loss1, _, _, _ = RNN_try.forward(X, Y, h_init)\n",
    "                grad[parameter][i, j] = (loss2 - loss1) / (2 * h)\n",
    "\n",
    "    return grad"
   ]
  },
  {
   "cell_type": "code",
   "execution_count": 79,
   "metadata": {},
   "outputs": [],
   "source": [
    "grads_num = ComputeGradsNum(RNN_net, X, Y, h_init)"
   ]
  },
  {
   "cell_type": "code",
   "execution_count": 28,
   "metadata": {},
   "outputs": [],
   "source": [
    "def test_grad(grads, grads_num):\n",
    "    try:\n",
    "        for parameter in ['b','c','U','W','V']:\n",
    "            np.testing.assert_almost_equal(grads[parameter], grads_num[parameter], decimal=6)\n",
    "    except:\n",
    "        return\n",
    "    print(\"Gradients can work.\")"
   ]
  },
  {
   "cell_type": "code",
   "execution_count": 80,
   "metadata": {},
   "outputs": [
    {
     "name": "stdout",
     "output_type": "stream",
     "text": [
      "Gradients can work.\n"
     ]
    }
   ],
   "source": [
    "test_grad(grads, grads_num)"
   ]
  },
  {
   "cell_type": "markdown",
   "metadata": {},
   "source": [
    "### Train the network"
   ]
  },
  {
   "cell_type": "code",
   "execution_count": 15,
   "metadata": {},
   "outputs": [
    {
     "name": "stdout",
     "output_type": "stream",
     "text": [
      "Update 1 with loss: 109.55894206229299\n",
      "Synthesized text:\n",
      "aDhy(GoGF'VsF3 TTgG•m./gL4WxmeD,GPT(:KuHLgr?DkUNf,_ORBq?DoQvAQw^EIFk4pqE\"k?/77Zv\"qp\tJhu'B07(ze:Mz4bx})\n",
      " ye\tTcI'yU^Lv?) 3B,koZOCJRgknc-yP2\tcx\n",
      "Fgc k\tYP\tO9mDc,K;H?Sz7•3qO0•R9\"v^!qMjqaQV}UEZHOqIMk0Ig nUFi\n",
      "--------------------------------------------------\n",
      "Update 10000 with loss: 50.80804640916073\n",
      "Synthesized text:\n",
      "vounglisgearine asxert Harry-dizy of Bain bar.   bigg a bot-lefirn yourkelarr thim sbericeny Shatgs and fill lon comhinn ter ing in Dmated faf ss bai- a rugd root puincen'rlmuttorm had a astrrad hin m\n",
      "--------------------------------------------------\n",
      "Update 20000 with loss: 47.36742448675024\n",
      "Synthesized text:\n",
      "Werid,.  Harry-and cuce. She lot mif-Krimurn,  he bight pencher. . . .  he seel frim's of sheag say iney caok.\n",
      "\"Bed te they that to deeld to whim a soomed to sulair.\n",
      "\"Krizudd Han goby at thit ana deel\n",
      "--------------------------------------------------\n",
      "Update 30000 with loss: 46.282403803174475\n",
      "Synthesized text:\n",
      "wit\"\n",
      "Any go saas, stres.  How.\n",
      "\"Wercing a wastufn wage bevivel she girreys of they was sacow youg watce odch yes to weteroinh him ri. . yew thee to all.\n",
      "And of the fang was Dasmatsone sever whepery wh\n",
      "--------------------------------------------------\n",
      "Update 40000 with loss: 44.76175866669594\n",
      "Synthesized text:\n",
      "o the knond other tild.  Wheregrye howned thin shore thatares,\"  Harry and back offing figet and Ho'd. lough mest's note to pere formert tapn's sefe be-e thelving acould Duill morted inches beever him\n",
      "--------------------------------------------------\n",
      "Update 50000 with loss: 45.36948438581677\n",
      "Synthesized text:\n",
      "they rapplemarmy Malk noting and bcaging a luther ded reesttely's ackbacher olds dentilt on?  He not dien, very thestrenes I'Omictnan the trecenced each Ccaw, net cit make beckictled he got excrefflet\n",
      "--------------------------------------------------\n",
      "Update 60000 with loss: 43.789149595479344\n",
      "Synthesized text:\n",
      "fffrat Dumsle name.\n",
      "\"Wo, internath had Hatht!\"\"Asted you peeringing to fory, letry,\" Harry -\"\n",
      "\"We He finging whech of him, raste's booch, arling byen them insory, Aung.\"\n",
      "Harry halgh near very very fra\n",
      "--------------------------------------------------\n",
      "Update 70000 with loss: 43.59347000202116\n",
      "Synthesized text:\n",
      "alve you was what, He Harry fantral shere do were said not oup hers to gutty out.\"\n",
      "Hirryos himsesed egrrast wisked ad she bexide and I dont' he'd elappion, rever companted no winconall in the mind lik\n",
      "--------------------------------------------------\n",
      "Update 80000 with loss: 41.77121622292359\n",
      "Synthesized text:\n",
      "o best permanch talcy migedd, of Lunco mading nous he.  The crapen now and supning he -\"\n",
      "\"He hag on the deff the gilly, Karky witchean the droweacoucary., and cas wark very dadge umasider of Sinsed - \n",
      "--------------------------------------------------\n",
      "Update 90000 with loss: 42.375010236872264\n",
      "Synthesized text:\n",
      "t lead to a could mouthing fact, Hermione's elessunter to they's the keasled grilars Proight to be wat to the feisted surned.  Whre ey haid, but walktasize this her harn in front if pread.  Wo wasl.  \n",
      "--------------------------------------------------\n",
      "Update 100000 with loss: 43.47100854017116\n",
      "Synthesized text:\n",
      "unwert-Tands some Duplrices I after's wearraming up did, hrurgled acous off hell soming inclay to got mown courre to spore you depin omes cosing is indi't rugw agained spenss I widly so cours talking \n",
      "--------------------------------------------------\n"
     ]
    }
   ],
   "source": [
    "RNN_net.train(text=book_data,\n",
    "            ind_to_char=ind_to_char,\n",
    "            char_to_ind=char_to_ind,\n",
    "            seq_length=25,\n",
    "            eta=0.1,\n",
    "            number_updates=100000,\n",
    "            max_epochs=np.inf,\n",
    "            find_best_network=True)"
   ]
  },
  {
   "cell_type": "markdown",
   "metadata": {},
   "source": [
    "### Plot the learning curve"
   ]
  },
  {
   "cell_type": "code",
   "execution_count": 19,
   "metadata": {},
   "outputs": [],
   "source": [
    "def plot_learning_curve(smooth_loss, title, length_text, seq_length):\n",
    "    \n",
    "    # Plot the learning curve\n",
    "    _, ax = plt.subplots(1, 1, figsize=(9,5))\n",
    "    plt.title('Learning curve '+title)\n",
    "    ax.plot(range(1, len(smooth_loss)+1), smooth_loss, label='Loss curve')\n",
    "    \n",
    "    one_epoch_num = int(np.round((length_text-1)/seq_length))\n",
    "    for e in range(one_epoch_num, len(smooth_loss), one_epoch_num):\n",
    "        label = 'Epoch'if e==one_epoch_num else ''\n",
    "        ax.axvline(e, c='green', linestyle='--', linewidth=1, label=label)\n",
    "        \n",
    "    optimal_point = np.argmin(smooth_loss)\n",
    "    optimal_loss = np.round(smooth_loss[optimal_point], 2)\n",
    "    label = 'Optimal Loss: '+str(optimal_loss)+' at '+str(optimal_point+1)+ ' update time'\n",
    "    ax.axvline(optimal_point, c='red', linestyle='--', linewidth=1, label=label)\n",
    "    \n",
    "    # Add axis, legend and grid\n",
    "    ax.set_xlabel('Update')\n",
    "    ax.set_ylabel('Loss')\n",
    "    ax.legend()\n",
    "    #ax.grid(True)"
   ]
  },
  {
   "cell_type": "code",
   "execution_count": 20,
   "metadata": {},
   "outputs": [
    {
     "data": {
      "image/png": "[encoded data removed]",
      "text/plain": [
       "<Figure size 648x360 with 1 Axes>"
      ]
     },
     "metadata": {
      "needs_background": "light"
     },
     "output_type": "display_data"
    }
   ],
   "source": [
    "title = ':100000 updates, sequence length 25'\n",
    "plot_learning_curve(RNN_net.smooth_loss, title, len(book_data), 25)\n",
    "plt.show()\n",
    "#plt.savefig('Figures/'+str(figure)+'_Curve_100000.png', bbox_inches='tight')"
   ]
  },
  {
   "cell_type": "markdown",
   "metadata": {},
   "source": [
    "### Synthesize text by the best model"
   ]
  },
  {
   "cell_type": "code",
   "execution_count": 21,
   "metadata": {},
   "outputs": [],
   "source": [
    "h_init = np.zeros(shape=(RNN_net.hidden_size,1))\n",
    "synthesize_one_hot = RNN_net.synthesize(x0=X[:,[0]], h0=h_init, length=1000)\n",
    "synthesize_characters = []\n",
    "for index in range(synthesize_one_hot.shape[1]):\n",
    "    character = ind_to_char[np.where(synthesize_one_hot[:,index]>0)[0][0]]\n",
    "    synthesize_characters.append(character)"
   ]
  },
  {
   "cell_type": "code",
   "execution_count": 22,
   "metadata": {},
   "outputs": [
    {
     "name": "stdout",
     "output_type": "stream",
     "text": [
      "e rape, you'd it's frumbed have tone worry?\" sight't Migazy was snouldnot of Mal,\n",
      "\"This - mow.  \"Wh. Triun!\" said Mr. Mart andow a looking woulved who carnuch must tabping way for dos, thein it's to ele the dory wanced so besore musde, ectanly birigot see grony get he face, ouf I two's hearen.\"\n",
      "\"My.\"\n",
      "\"Eun's sown and net.\n",
      "\"He gcare you to-krowing orely looking every.  What wheck much down that to sappesper coor munt to Netroot of tree was geTly.  \"You into telle aid overing you toon.  And who hark what wearly.  IZhurew wand they ang to looked his semented musten rupbons.  Don's stare and off on to one Harry upunded's handw., I across not with watcr'd a secrace welis. hek.  He cournuts mess now, his and shark that were Face, they dud-tlation all over as opented stortly, Pr its a alotter.\n",
      "And, - All be not coort sere causge,\" said Harry, surmiesion didn't had mblly?\" said Harry watch studely do ote who were gay,\" 'verying heade, he treaking to snowond are ouch. ,\n",
      "\tThe Giled at obling they\n"
     ]
    }
   ],
   "source": [
    "print(''.join(synthesize_characters))"
   ]
  }
 ],
 "metadata": {
  "kernelspec": {
   "display_name": "Python 3",
   "language": "python",
   "name": "python3"
  },
  "language_info": {
   "codemirror_mode": {
    "name": "ipython",
    "version": 3
   },
   "file_extension": ".py",
   "mimetype": "text/x-python",
   "name": "python",
   "nbconvert_exporter": "python",
   "pygments_lexer": "ipython3",
   "version": "3.7.6"
  }
 },
 "nbformat": 4,
 "nbformat_minor": 4
}
